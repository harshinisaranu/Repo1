{
 "cells": [
  {
   "cell_type": "code",
   "execution_count": 9,
   "id": "ce52e10d",
   "metadata": {},
   "outputs": [
    {
     "name": "stdout",
     "output_type": "stream",
     "text": [
      "20\n"
     ]
    }
   ],
   "source": [
    "d={5:1,6:3,7:5,8:7,9:9}\n",
    "c=0\n",
    "s=0\n",
    "n=5678\n",
    "while(n):\n",
    "    if(c%2==0):\n",
    "        s+=n%10\n",
    "    else:\n",
    "        s+=d[int(n%10)]\n",
    "    c+=1\n",
    "    n=n//10\n",
    "print(s)\n",
    "        \n",
    "        \n"
   ]
  },
  {
   "cell_type": "code",
   "execution_count": null,
   "id": "cf73fcc9",
   "metadata": {},
   "outputs": [],
   "source": []
  }
 ],
 "metadata": {
  "kernelspec": {
   "display_name": "Python 3",
   "language": "python",
   "name": "python3"
  },
  "language_info": {
   "codemirror_mode": {
    "name": "ipython",
    "version": 3
   },
   "file_extension": ".py",
   "mimetype": "text/x-python",
   "name": "python",
   "nbconvert_exporter": "python",
   "pygments_lexer": "ipython3",
   "version": "3.8.8"
  }
 },
 "nbformat": 4,
 "nbformat_minor": 5
}
