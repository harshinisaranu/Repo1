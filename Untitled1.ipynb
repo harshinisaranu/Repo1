{
 "cells": [
  {
   "cell_type": "code",
   "execution_count": 4,
   "id": "15cf7a83",
   "metadata": {},
   "outputs": [
    {
     "name": "stdout",
     "output_type": "stream",
     "text": [
      "20\n"
     ]
    }
   ],
   "source": [
    "c=0\n",
    "s=0\n",
    "n=5678\n",
    "while(n):\n",
    "    c=c+1\n",
    "    r=n%10\n",
    "    #print(r)\n",
    "    if(c%2!=0):\n",
    "        s=s+r\n",
    "    else:\n",
    "        r=r*2;\n",
    "        s=s+\n",
    "    n=n//10\n",
    "print(s)\n",
    "    \n",
    "        \n",
    "    \n",
    "    \n",
    "    "
   ]
  },
  {
   "cell_type": "code",
   "execution_count": null,
   "id": "c0529fb8",
   "metadata": {},
   "outputs": [],
   "source": []
  }
 ],
 "metadata": {
  "kernelspec": {
   "display_name": "Python 3",
   "language": "python",
   "name": "python3"
  },
  "language_info": {
   "codemirror_mode": {
    "name": "ipython",
    "version": 3
   },
   "file_extension": ".py",
   "mimetype": "text/x-python",
   "name": "python",
   "nbconvert_exporter": "python",
   "pygments_lexer": "ipython3",
   "version": "3.8.8"
  }
 },
 "nbformat": 4,
 "nbformat_minor": 5
}
